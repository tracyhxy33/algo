{
 "cells": [
  {
   "cell_type": "markdown",
   "metadata": {},
   "source": [
    "# LT.53. Maximum Subarray"
   ]
  },
  {
   "cell_type": "markdown",
   "metadata": {},
   "source": [
    "## recursion with memorization"
   ]
  },
  {
   "cell_type": "code",
   "execution_count": 28,
   "metadata": {},
   "outputs": [],
   "source": [
    "from typing import List"
   ]
  },
  {
   "cell_type": "code",
   "execution_count": 29,
   "metadata": {},
   "outputs": [],
   "source": [
    "class Solution:\n",
    "    def __init__(self):\n",
    "        self.dp = {}\n",
    "        self.counting = 0\n",
    "    \n",
    "    def max_consec_end_with(self, lst: List[int]) -> int:\n",
    "        index_key = len(lst) - 1\n",
    "        if index_key in self.dp: # check dp container\n",
    "            return self.dp[index_key]\n",
    "        else: # evaluate\n",
    "            # check looping:\n",
    "            self.counting += 1\n",
    "            if index_key == 0: # when only one element left\n",
    "                self.dp[index_key] = lst[index_key]\n",
    "                return self.dp[index_key]\n",
    "            else:\n",
    "                # calculate the last sum by feeding all numbers before the current index\n",
    "                left_sum = self.max_consec_end_with(lst[:index_key])\n",
    "                carry_left = max(0, left_sum)\n",
    "                self.dp[index_key] = carry_left + lst[index_key]\n",
    "                return self.dp[index_key]\n",
    "            \n",
    "    def maxSubArray(self, nums: List[int]) -> int:\n",
    "        my_max = float('-inf')\n",
    "        # evaluate sum of sub array ended with each index\n",
    "        for i in range(len(nums)):\n",
    "            sum_end_with_index = self.max_consec_end_with(nums[:(i+1)])\n",
    "            if sum_end_with_index > my_max:\n",
    "                my_max = sum_end_with_index\n",
    "        return my_max"
   ]
  },
  {
   "cell_type": "code",
   "execution_count": 30,
   "metadata": {},
   "outputs": [
    {
     "data": {
      "text/plain": [
       "6"
      ]
     },
     "execution_count": 30,
     "metadata": {},
     "output_type": "execute_result"
    }
   ],
   "source": [
    "test_input = [-2,1,-3,4,-1,2,1,-5,4]\n",
    "run = Solution()\n",
    "run.maxSubArray(test_input)"
   ]
  },
  {
   "cell_type": "code",
   "execution_count": 31,
   "metadata": {},
   "outputs": [
    {
     "name": "stdout",
     "output_type": "stream",
     "text": [
      "{0: -2, 1: 1, 2: -2, 3: 4, 4: 3, 5: 5, 6: 6, 7: 1, 8: 5}\n",
      "9\n"
     ]
    }
   ],
   "source": [
    "print(run.dp)\n",
    "print(run.counting)"
   ]
  },
  {
   "cell_type": "markdown",
   "metadata": {},
   "source": [
    "# LT.643. Maximum Average Subarray I"
   ]
  },
  {
   "cell_type": "code",
   "execution_count": 1,
   "metadata": {},
   "outputs": [],
   "source": [
    "from typing import List"
   ]
  },
  {
   "cell_type": "code",
   "execution_count": 23,
   "metadata": {},
   "outputs": [],
   "source": [
    "class Solution:\n",
    "    def findMaxAverage(self, nums: List[int], k: int) -> float:\n",
    "        # loop through each starting index with length k\n",
    "        for i in range(len(nums)-(k-1)):\n",
    "            if i == 0:\n",
    "                sub_avg = sum(nums[i:k+i])\n",
    "                my_max = sum(nums[i:k+i])\n",
    "            else:\n",
    "                sub_avg = sub_avg - nums[i-1] + nums[i+k-1]\n",
    "            if sub_avg > my_max:\n",
    "                my_max = sub_avg\n",
    "        return float(my_max)/k"
   ]
  },
  {
   "cell_type": "code",
   "execution_count": 27,
   "metadata": {},
   "outputs": [
    {
     "data": {
      "text/plain": [
       "12.75"
      ]
     },
     "execution_count": 27,
     "metadata": {},
     "output_type": "execute_result"
    }
   ],
   "source": [
    "test_input = [[1,12,-5,-6,50,3], 4]\n",
    "run = Solution()\n",
    "run.findMaxAverage(*test_input)"
   ]
  },
  {
   "cell_type": "markdown",
   "metadata": {},
   "source": [
    "# LT.1800. Maximum Ascending Subarray Sum"
   ]
  },
  {
   "cell_type": "markdown",
   "metadata": {},
   "source": [
    "## recursion with memorization"
   ]
  },
  {
   "cell_type": "code",
   "execution_count": 28,
   "metadata": {},
   "outputs": [],
   "source": [
    "from typing import List"
   ]
  },
  {
   "cell_type": "code",
   "execution_count": 37,
   "metadata": {},
   "outputs": [],
   "source": [
    "class Solution:\n",
    "    def __init__(self):\n",
    "        self.dp = {}\n",
    "        self.counting = 0\n",
    "    \n",
    "    def max_consec_end_with(self, lst: List[int]) -> int:\n",
    "        index_key = len(lst) - 1\n",
    "        if index_key in self.dp: # check dp container\n",
    "            return self.dp[index_key]\n",
    "        else: # evaluate\n",
    "            # check looping:\n",
    "            self.counting += 1\n",
    "            if index_key == 0: # when only one element left\n",
    "                self.dp[index_key] = lst[index_key]\n",
    "                return self.dp[index_key]\n",
    "            else:\n",
    "                # calculate the last sum by feeding all numbers before the current index\n",
    "                if lst[index_key] > lst[index_key-1]:\n",
    "                    left_sum = self.max_consec_end_with(lst[:index_key])\n",
    "                    carry_left = max(0, left_sum)\n",
    "                    self.dp[index_key] = carry_left + lst[index_key]\n",
    "                else:\n",
    "                    self.dp[index_key] = lst[index_key]\n",
    "                return self.dp[index_key]\n",
    "            \n",
    "    def maxAscendingSum(self, nums: List[int]) -> int:\n",
    "        my_max = float('-inf')\n",
    "        # evaluate sum of sub array ended with each index\n",
    "        for i in range(len(nums)):\n",
    "            sum_end_with_index = self.max_consec_end_with(nums[:(i+1)])\n",
    "            if sum_end_with_index > my_max:\n",
    "                my_max = sum_end_with_index\n",
    "        return my_max"
   ]
  },
  {
   "cell_type": "code",
   "execution_count": 38,
   "metadata": {},
   "outputs": [
    {
     "data": {
      "text/plain": [
       "33"
      ]
     },
     "execution_count": 38,
     "metadata": {},
     "output_type": "execute_result"
    }
   ],
   "source": [
    "test_input = [12,17,15,13,10,11,12]\n",
    "run = Solution()\n",
    "run.maxAscendingSum(test_input)"
   ]
  },
  {
   "cell_type": "code",
   "execution_count": 39,
   "metadata": {},
   "outputs": [
    {
     "name": "stdout",
     "output_type": "stream",
     "text": [
      "{0: 12, 1: 29, 2: 15, 3: 13, 4: 10, 5: 21, 6: 33}\n",
      "7\n"
     ]
    }
   ],
   "source": [
    "print(run.dp)\n",
    "print(run.counting)"
   ]
  },
  {
   "cell_type": "markdown",
   "metadata": {},
   "source": [
    "# LT.1588. Sum of All Odd Length Subarrays"
   ]
  },
  {
   "cell_type": "code",
   "execution_count": 40,
   "metadata": {},
   "outputs": [],
   "source": [
    "from typing import List"
   ]
  },
  {
   "cell_type": "code",
   "execution_count": 62,
   "metadata": {},
   "outputs": [],
   "source": [
    "class Solution:\n",
    "    def sumOddLengthSubarrays(self, nums: List[int]) -> int:\n",
    "        my_sum = 0\n",
    "        # loop through each index\n",
    "        for k in [x + 1 for x in range(0,len(nums),2)]:\n",
    "            for i in range(len(nums)-(k-1)):\n",
    "                if i == 0:\n",
    "                    sub_sum = sum(nums[i:k+i])\n",
    "                    my_sum += sub_sum\n",
    "                else:\n",
    "                    sub_sum = sub_sum - nums[i-1] + nums[i+k-1]\n",
    "                    my_sum += sub_sum\n",
    "        return my_sum"
   ]
  },
  {
   "cell_type": "code",
   "execution_count": 63,
   "metadata": {},
   "outputs": [
    {
     "data": {
      "text/plain": [
       "58"
      ]
     },
     "execution_count": 63,
     "metadata": {},
     "output_type": "execute_result"
    }
   ],
   "source": [
    "test_input = [1,4,2,5,3]\n",
    "run = Solution()\n",
    "run.sumOddLengthSubarrays(test_input)"
   ]
  },
  {
   "cell_type": "code",
   "execution_count": null,
   "metadata": {},
   "outputs": [],
   "source": []
  }
 ],
 "metadata": {
  "kernelspec": {
   "display_name": "Python 3",
   "language": "python",
   "name": "python3"
  },
  "language_info": {
   "codemirror_mode": {
    "name": "ipython",
    "version": 3
   },
   "file_extension": ".py",
   "mimetype": "text/x-python",
   "name": "python",
   "nbconvert_exporter": "python",
   "pygments_lexer": "ipython3",
   "version": "3.7.1"
  }
 },
 "nbformat": 4,
 "nbformat_minor": 4
}
